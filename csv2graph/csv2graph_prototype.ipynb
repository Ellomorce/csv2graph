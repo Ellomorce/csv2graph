{
 "cells": [
  {
   "cell_type": "code",
   "execution_count": 50,
   "metadata": {},
   "outputs": [],
   "source": [
    "import pandas as pd\n",
    "import networkx as nx\n",
    "import itertools\n",
    "import csv\n",
    "import pydot\n",
    "from IPython.display import Image"
   ]
  },
  {
   "cell_type": "code",
   "execution_count": 55,
   "metadata": {},
   "outputs": [],
   "source": [
    "def networkx2dot(G):\n",
    "    strict = nx.number_of_selfloops(G) == 0 and not G.is_multigraph()\n",
    "    GDOT = pydot.Dot(\"OKRMAP\", graph_type=\"digraph\", strict=strict) #rankdir=\"LR\"\n",
    "    GDOT.graph_defaults = G.graph.get(\"graph\", {})\n",
    "    GDOT.set_node_defaults(shape='box', style=\"filled\", color=\"black\", fillcolor=\"white\", fontname='helvetica')\n",
    "    GDOT.set_edge_defaults(fontname='helvetica', labelfontsize='10.0')\n",
    "    \n",
    "    for n, nodedata in G.nodes(data=True):\n",
    "        if n !=None:\n",
    "            node_lst = list(nodedata.values())\n",
    "            node_dict = str(node_lst[0])\n",
    "            node_label = str(n)+'\\n'+node_dict\n",
    "            dotnode = pydot.Node(n, label = node_label)\n",
    "            GDOT.add_node(dotnode)\n",
    "\n",
    "    for u, y, edgedata in G.edges(data=True):\n",
    "        if y !=None:\n",
    "            edge_lst = list(edgedata.values())\n",
    "            edge_label = str(edge_lst[0])\n",
    "            dotedge = pydot.Edge(str(u), str(y), label = edge_label)\n",
    "            GDOT.add_edge(dotedge)\n",
    "    return GDOT"
   ]
  },
  {
   "cell_type": "code",
   "execution_count": 56,
   "metadata": {},
   "outputs": [
    {
     "data": {
      "text/html": [
       "<div>\n",
       "<style scoped>\n",
       "    .dataframe tbody tr th:only-of-type {\n",
       "        vertical-align: middle;\n",
       "    }\n",
       "\n",
       "    .dataframe tbody tr th {\n",
       "        vertical-align: top;\n",
       "    }\n",
       "\n",
       "    .dataframe thead th {\n",
       "        text-align: right;\n",
       "    }\n",
       "</style>\n",
       "<table border=\"1\" class=\"dataframe\">\n",
       "  <thead>\n",
       "    <tr style=\"text-align: right;\">\n",
       "      <th></th>\n",
       "      <th>Number</th>\n",
       "      <th>Title</th>\n",
       "      <th>statement</th>\n",
       "    </tr>\n",
       "  </thead>\n",
       "  <tbody>\n",
       "    <tr>\n",
       "      <th>0</th>\n",
       "      <td>1000</td>\n",
       "      <td>Earn 1000 dollars</td>\n",
       "      <td>1000</td>\n",
       "    </tr>\n",
       "    <tr>\n",
       "      <th>1</th>\n",
       "      <td>1100</td>\n",
       "      <td>Earned by jobs for 500</td>\n",
       "      <td>500</td>\n",
       "    </tr>\n",
       "    <tr>\n",
       "      <th>2</th>\n",
       "      <td>1110</td>\n",
       "      <td>Working 22 day</td>\n",
       "      <td>22</td>\n",
       "    </tr>\n",
       "    <tr>\n",
       "      <th>3</th>\n",
       "      <td>1120</td>\n",
       "      <td>Good performance</td>\n",
       "      <td>TRUE</td>\n",
       "    </tr>\n",
       "    <tr>\n",
       "      <th>4</th>\n",
       "      <td>1200</td>\n",
       "      <td>Earned by part-time for 200</td>\n",
       "      <td>200</td>\n",
       "    </tr>\n",
       "    <tr>\n",
       "      <th>5</th>\n",
       "      <td>1210</td>\n",
       "      <td>Find 2 prat-time jobs</td>\n",
       "      <td>2</td>\n",
       "    </tr>\n",
       "    <tr>\n",
       "      <th>6</th>\n",
       "      <td>1220</td>\n",
       "      <td>Working 4 weekend-day</td>\n",
       "      <td>4</td>\n",
       "    </tr>\n",
       "    <tr>\n",
       "      <th>7</th>\n",
       "      <td>1300</td>\n",
       "      <td>Earned by donate for 300</td>\n",
       "      <td>300</td>\n",
       "    </tr>\n",
       "    <tr>\n",
       "      <th>8</th>\n",
       "      <td>1310</td>\n",
       "      <td>Open Stream 8 night</td>\n",
       "      <td>8</td>\n",
       "    </tr>\n",
       "    <tr>\n",
       "      <th>9</th>\n",
       "      <td>1320</td>\n",
       "      <td>Clear game</td>\n",
       "      <td>TRUE</td>\n",
       "    </tr>\n",
       "  </tbody>\n",
       "</table>\n",
       "</div>"
      ],
      "text/plain": [
       "   Number                        Title statement\n",
       "0    1000            Earn 1000 dollars      1000\n",
       "1    1100       Earned by jobs for 500       500\n",
       "2    1110               Working 22 day        22\n",
       "3    1120             Good performance      TRUE\n",
       "4    1200  Earned by part-time for 200       200\n",
       "5    1210        Find 2 prat-time jobs         2\n",
       "6    1220        Working 4 weekend-day         4\n",
       "7    1300     Earned by donate for 300       300\n",
       "8    1310          Open Stream 8 night         8\n",
       "9    1320                   Clear game      TRUE"
      ]
     },
     "metadata": {},
     "output_type": "display_data"
    },
    {
     "name": "stdout",
     "output_type": "stream",
     "text": [
      "\n"
     ]
    }
   ],
   "source": [
    "df = pd.read_csv(r\"D:\\Code\\TFBOKRMAP\\okrlist\\rdtest111e.csv\", usecols = ['Number','Title', 'statement']) \n",
    "df2 = df.drop(['statement'], axis='columns')\n",
    "df3 = df.drop(['Title'], axis='columns')\n",
    "display(df)\n",
    "print()"
   ]
  },
  {
   "cell_type": "code",
   "execution_count": 57,
   "metadata": {},
   "outputs": [
    {
     "name": "stdout",
     "output_type": "stream",
     "text": [
      "[1000, 1100, 1110, 1120, 1200, 1210, 1220, 1300, 1310, 1320]\n",
      "{1000: {'Title': 'Earn 1000 dollars'}, 1100: {'Title': 'Earned by jobs for 500'}, 1110: {'Title': 'Working 22 day'}, 1120: {'Title': 'Good performance'}, 1200: {'Title': 'Earned by part-time for 200'}, 1210: {'Title': 'Find 2 prat-time jobs'}, 1220: {'Title': 'Working 4 weekend-day'}, 1300: {'Title': 'Earned by donate for 300'}, 1310: {'Title': 'Open Stream 8 night'}, 1320: {'Title': 'Clear game'}}\n",
      "[(1000, {'Title': 'Earn 1000 dollars'}), (1100, {'Title': 'Earned by jobs for 500'}), (1110, {'Title': 'Working 22 day'}), (1120, {'Title': 'Good performance'}), (1200, {'Title': 'Earned by part-time for 200'}), (1210, {'Title': 'Find 2 prat-time jobs'}), (1220, {'Title': 'Working 4 weekend-day'}), (1300, {'Title': 'Earned by donate for 300'}), (1310, {'Title': 'Open Stream 8 night'}), (1320, {'Title': 'Clear game'})]\n"
     ]
    },
    {
     "data": {
      "text/plain": [
       "'Earn 1000 dollars'"
      ]
     },
     "execution_count": 57,
     "metadata": {},
     "output_type": "execute_result"
    }
   ],
   "source": [
    "import networkx as nx\n",
    "\n",
    "G = nx.DiGraph() #rankdir=\"LR\"\n",
    "#Setting Nodes and Node Attributes \n",
    "G.add_nodes_from(df['Number'])\n",
    "print(G.nodes)\n",
    "\n",
    "node_label = df2.set_index('Number').to_dict('index')\n",
    "print(node_label)\n",
    "nx.set_node_attributes(G, node_label)\n",
    "\n",
    "print(G.nodes(data=True))\n",
    "G.nodes[1000][\"Title\"]"
   ]
  },
  {
   "cell_type": "code",
   "execution_count": 36,
   "metadata": {},
   "outputs": [],
   "source": [
    "#Setting Edges and Edge Attributes\n",
    "#Build Edge List\n",
    "#import pprint\n",
    "#edge_list=[]\n",
    "#for i in range(1000,5901):\n",
    "#  a=i//1000\n",
    "#  b=(i%1000)//100\n",
    "#  c=(i%100)//10\n",
    "#  d=i%10\n",
    "#  if b!=0:\n",
    "#    if c!=0:\n",
    "#      edge_list.append(i)\n",
    "#    else:\n",
    "#      if d==0:\n",
    "#        edge_list.append(i)\n",
    "#  else:\n",
    "#    if c==0 and d==0:\n",
    "#      edge_list.append(i)\n",
    "#pprint.pprint(edge_list, depth=1, width=10000)\n",
    "#這段好像沒有用.....87"
   ]
  },
  {
   "cell_type": "code",
   "execution_count": 58,
   "metadata": {},
   "outputs": [
    {
     "name": "stdout",
     "output_type": "stream",
     "text": [
      "[(1000, 1100, {'label': '500'}), (1000, 1200, {'label': '200'}), (1000, 1300, {'label': '300'}), (1100, 1110, {'label': '22'}), (1100, 1120, {'label': 'TRUE'}), (1200, 1210, {'label': '2'}), (1200, 1220, {'label': '4'}), (1300, 1310, {'label': '8'}), (1300, 1320, {'label': 'TRUE'})]\n",
      "[(1000, 1100, {'label': '500'}), (1000, 1200, {'label': '200'}), (1000, 1300, {'label': '300'}), (1100, 1110, {'label': '22'}), (1100, 1120, {'label': 'TRUE'}), (1200, 1210, {'label': '2'}), (1200, 1220, {'label': '4'}), (1300, 1310, {'label': '8'}), (1300, 1320, {'label': 'TRUE'})]\n"
     ]
    }
   ],
   "source": [
    "#Build Edge List2\n",
    "#\n",
    "#讀取參照的edge結構\n",
    "with open('number_logic.csv', newline='') as f:\n",
    "    reader = csv.reader(f)\n",
    "    number_logic = [tuple(map(int, row)) for row in reader]\n",
    "#print(number_logic)\n",
    "#\n",
    "edge_list=[i for i in df['Number']] #把df裡面的節點抓成list\n",
    "#print(edge_list)\n",
    "edge_raw = [i for i in itertools.combinations(edge_list, 2)] #把df裡面的節點組合成edge tuple的list\n",
    "#print(edge_raw)\n",
    "edge1 = [x for x in edge_raw if x in number_logic] #比對edge_raw跟number_logic然後挑選集合部分做出新list\n",
    "#print(edge1)\n",
    "\n",
    "df_e = pd.DataFrame(edge1, columns = ['f_node', 'b_node'])\n",
    "label_dict = dict(zip(df3['Number'], df3['statement']))\n",
    "#print(label_dict)\n",
    "df_e['label'] = df_e['b_node'].map(label_dict)\n",
    "\n",
    "edge2 = [[*i, j] for i,j in zip(list(df_e[['f_node', 'b_node']].itertuples(index=False, name=None)), df_e.drop(['f_node', 'b_node'], axis='columns').to_dict('records'))] \n",
    "#print(edge2)\n",
    "\n",
    "#把Statement作為tuple的第三個常數丟給edge\n",
    "edges = [tuple(l) for l in edge2] #把上一步list裡面的元素轉回tuple...麻煩\n",
    "\n",
    "print(edges)\n",
    "G.add_edges_from(edges)\n",
    "print(G.edges(data=True))"
   ]
  },
  {
   "cell_type": "code",
   "execution_count": 59,
   "metadata": {},
   "outputs": [
    {
     "data": {
      "image/png": "[encoded data removed]",
      "text/plain": [
       "<IPython.core.display.Image object>"
      ]
     },
     "execution_count": 59,
     "metadata": {},
     "output_type": "execute_result"
    }
   ],
   "source": [
    "#使用Graphviz繪圖\n",
    "GDOT = networkx2dot(G)\n",
    "GDOT.write_png('tmp.png')\n",
    "Image('tmp.png')\n"
   ]
  }
 ],
 "metadata": {
  "interpreter": {
   "hash": "ecf5722fdaf1897a315d257d89d94520bfcaa453217d5becf09b39e73618b0de"
  },
  "kernelspec": {
   "display_name": "Python 3.9.5 64-bit ('base': conda)",
   "language": "python",
   "name": "python3"
  },
  "language_info": {
   "codemirror_mode": {
    "name": "ipython",
    "version": 3
   },
   "file_extension": ".py",
   "mimetype": "text/x-python",
   "name": "python",
   "nbconvert_exporter": "python",
   "pygments_lexer": "ipython3",
   "version": "3.9.5"
  },
  "orig_nbformat": 4
 },
 "nbformat": 4,
 "nbformat_minor": 2
}
