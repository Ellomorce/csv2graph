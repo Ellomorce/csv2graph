{
 "cells": [
  {
   "cell_type": "code",
   "execution_count": 11,
   "metadata": {},
   "outputs": [],
   "source": [
    "import pandas as pd\n",
    "import networkx as nx\n",
    "import itertools\n",
    "import csv\n",
    "import pydot\n",
    "from IPython.display import Image"
   ]
  },
  {
   "cell_type": "code",
   "execution_count": 12,
   "metadata": {},
   "outputs": [],
   "source": [
    "def networkx2dot(G):\n",
    "    strict = nx.number_of_selfloops(G) == 0 and not G.is_multigraph()\n",
    "    GDOT = pydot.Dot(\"OKRMAP\", graph_type=\"digraph\", strict=strict) #rankdir=\"LR\"\n",
    "    GDOT.graph_defaults = G.graph.get(\"graph\", {})\n",
    "    GDOT.set_node_defaults(shape='box', style=\"filled\", color=\"black\", fillcolor=\"white\", fontname='helvetica')\n",
    "    GDOT.set_edge_defaults(fontname='helvetica', labelfontsize='10.0')\n",
    "    \n",
    "    for n, nodedata in G.nodes(data=True):\n",
    "        if n !=None:\n",
    "            node_lst = list(nodedata.values())\n",
    "            node_dict = str(node_lst[0])\n",
    "            node_label = str(n)+'\\n'+node_dict\n",
    "            dotnode = pydot.Node(n, label = node_label)\n",
    "            GDOT.add_node(dotnode)\n",
    "\n",
    "    for u, y, edgedata in G.edges(data=True):\n",
    "        if y !=None:\n",
    "            edge_lst = list(edgedata.values())\n",
    "            edge_label = str(edge_lst[0])\n",
    "            dotedge = pydot.Edge(str(u), str(y), label = edge_label)\n",
    "            GDOT.add_edge(dotedge)\n",
    "    return GDOT"
   ]
  },
  {
   "cell_type": "code",
   "execution_count": 17,
   "metadata": {},
   "outputs": [
    {
     "data": {
      "text/html": [
       "<div>\n",
       "<style scoped>\n",
       "    .dataframe tbody tr th:only-of-type {\n",
       "        vertical-align: middle;\n",
       "    }\n",
       "\n",
       "    .dataframe tbody tr th {\n",
       "        vertical-align: top;\n",
       "    }\n",
       "\n",
       "    .dataframe thead th {\n",
       "        text-align: right;\n",
       "    }\n",
       "</style>\n",
       "<table border=\"1\" class=\"dataframe\">\n",
       "  <thead>\n",
       "    <tr style=\"text-align: right;\">\n",
       "      <th></th>\n",
       "      <th>Number</th>\n",
       "      <th>Title</th>\n",
       "      <th>statement</th>\n",
       "    </tr>\n",
       "  </thead>\n",
       "  <tbody>\n",
       "    <tr>\n",
       "      <th>0</th>\n",
       "      <td>1000</td>\n",
       "      <td>Feel boring.</td>\n",
       "      <td>boolean</td>\n",
       "    </tr>\n",
       "    <tr>\n",
       "      <th>1</th>\n",
       "      <td>1100</td>\n",
       "      <td>Play</td>\n",
       "      <td>boolean</td>\n",
       "    </tr>\n",
       "    <tr>\n",
       "      <th>2</th>\n",
       "      <td>1110</td>\n",
       "      <td>Play Cards</td>\n",
       "      <td>4</td>\n",
       "    </tr>\n",
       "    <tr>\n",
       "      <th>3</th>\n",
       "      <td>1120</td>\n",
       "      <td>Play Basketball</td>\n",
       "      <td>12</td>\n",
       "    </tr>\n",
       "    <tr>\n",
       "      <th>4</th>\n",
       "      <td>1130</td>\n",
       "      <td>Play Video Game</td>\n",
       "      <td>boolean</td>\n",
       "    </tr>\n",
       "    <tr>\n",
       "      <th>5</th>\n",
       "      <td>1131</td>\n",
       "      <td>Open Steam</td>\n",
       "      <td>Oh yes</td>\n",
       "    </tr>\n",
       "    <tr>\n",
       "      <th>6</th>\n",
       "      <td>2000</td>\n",
       "      <td>Feel Hungry</td>\n",
       "      <td>boolean</td>\n",
       "    </tr>\n",
       "    <tr>\n",
       "      <th>7</th>\n",
       "      <td>2100</td>\n",
       "      <td>Eat</td>\n",
       "      <td>boolean</td>\n",
       "    </tr>\n",
       "    <tr>\n",
       "      <th>8</th>\n",
       "      <td>2110</td>\n",
       "      <td>McDonalds</td>\n",
       "      <td>3</td>\n",
       "    </tr>\n",
       "    <tr>\n",
       "      <th>9</th>\n",
       "      <td>2120</td>\n",
       "      <td>Nightmarket</td>\n",
       "      <td>8</td>\n",
       "    </tr>\n",
       "    <tr>\n",
       "      <th>10</th>\n",
       "      <td>2130</td>\n",
       "      <td>Dirt</td>\n",
       "      <td>wrong</td>\n",
       "    </tr>\n",
       "  </tbody>\n",
       "</table>\n",
       "</div>"
      ],
      "text/plain": [
       "    Number            Title statement\n",
       "0     1000     Feel boring.   boolean\n",
       "1     1100             Play   boolean\n",
       "2     1110       Play Cards         4\n",
       "3     1120  Play Basketball        12\n",
       "4     1130  Play Video Game   boolean\n",
       "5     1131       Open Steam    Oh yes\n",
       "6     2000      Feel Hungry   boolean\n",
       "7     2100              Eat   boolean\n",
       "8     2110        McDonalds         3\n",
       "9     2120      Nightmarket         8\n",
       "10    2130             Dirt     wrong"
      ]
     },
     "metadata": {},
     "output_type": "display_data"
    },
    {
     "name": "stdout",
     "output_type": "stream",
     "text": [
      "\n"
     ]
    }
   ],
   "source": [
    "df = pd.read_csv(r\"D:\\Code\\TFBOKRMAP\\okrlist\\rdtest111c.csv\", usecols = ['Number','Title', 'statement']) \n",
    "df2 = df.drop(['statement'], axis='columns')\n",
    "df3 = df.drop(['Number', 'Title'], axis='columns')\n",
    "display(df)\n",
    "print()"
   ]
  },
  {
   "cell_type": "code",
   "execution_count": 18,
   "metadata": {},
   "outputs": [
    {
     "name": "stdout",
     "output_type": "stream",
     "text": [
      "[1000, 1100, 1110, 1120, 1130, 1131, 2000, 2100, 2110, 2120, 2130]\n",
      "{1000: {'Title': 'Feel boring.'}, 1100: {'Title': 'Play'}, 1110: {'Title': 'Play Cards'}, 1120: {'Title': 'Play Basketball'}, 1130: {'Title': 'Play Video Game'}, 1131: {'Title': 'Open Steam'}, 2000: {'Title': 'Feel Hungry'}, 2100: {'Title': 'Eat'}, 2110: {'Title': 'McDonalds'}, 2120: {'Title': 'Nightmarket'}, 2130: {'Title': 'Dirt'}}\n",
      "[(1000, {'Title': 'Feel boring.'}), (1100, {'Title': 'Play'}), (1110, {'Title': 'Play Cards'}), (1120, {'Title': 'Play Basketball'}), (1130, {'Title': 'Play Video Game'}), (1131, {'Title': 'Open Steam'}), (2000, {'Title': 'Feel Hungry'}), (2100, {'Title': 'Eat'}), (2110, {'Title': 'McDonalds'}), (2120, {'Title': 'Nightmarket'}), (2130, {'Title': 'Dirt'})]\n"
     ]
    },
    {
     "data": {
      "text/plain": [
       "'Feel boring.'"
      ]
     },
     "execution_count": 18,
     "metadata": {},
     "output_type": "execute_result"
    }
   ],
   "source": [
    "import networkx as nx\n",
    "\n",
    "G = nx.DiGraph() #rankdir=\"LR\"\n",
    "#Setting Nodes and Node Attributes \n",
    "G.add_nodes_from(df['Number'])\n",
    "print(G.nodes)\n",
    "\n",
    "node_label = df2.set_index('Number').to_dict('index')\n",
    "print(node_label)\n",
    "nx.set_node_attributes(G, node_label)\n",
    "\n",
    "print(G.nodes(data=True))\n",
    "G.nodes[1000][\"Title\"]"
   ]
  },
  {
   "cell_type": "code",
   "execution_count": 36,
   "metadata": {},
   "outputs": [],
   "source": [
    "#Setting Edges and Edge Attributes\n",
    "#Build Edge List\n",
    "#import pprint\n",
    "#edge_list=[]\n",
    "#for i in range(1000,5901):\n",
    "#  a=i//1000\n",
    "#  b=(i%1000)//100\n",
    "#  c=(i%100)//10\n",
    "#  d=i%10\n",
    "#  if b!=0:\n",
    "#    if c!=0:\n",
    "#      edge_list.append(i)\n",
    "#    else:\n",
    "#      if d==0:\n",
    "#        edge_list.append(i)\n",
    "#  else:\n",
    "#    if c==0 and d==0:\n",
    "#      edge_list.append(i)\n",
    "#pprint.pprint(edge_list, depth=1, width=10000)\n",
    "#這段好像沒有用.....87"
   ]
  },
  {
   "cell_type": "code",
   "execution_count": 36,
   "metadata": {},
   "outputs": [
    {
     "name": "stdout",
     "output_type": "stream",
     "text": [
      "[(1000, 1100, {'statement': 'boolean'}), (1100, 1110, {'statement': 'boolean'}), (1100, 1120, {'statement': '4'}), (1100, 1130, {'statement': '12'}), (1130, 1131, {'statement': 'boolean'}), (2000, 2100, {'statement': 'Oh yes'}), (2100, 2110, {'statement': 'boolean'}), (2100, 2120, {'statement': 'boolean'}), (2100, 2130, {'statement': '3'})]\n",
      "[(1000, 1100, {'statement': 'boolean'}), (1100, 1110, {'statement': 'boolean'}), (1100, 1120, {'statement': '4'}), (1100, 1130, {'statement': '12'}), (1130, 1131, {'statement': 'boolean'}), (2000, 2100, {'statement': 'Oh yes'}), (2100, 2110, {'statement': 'boolean'}), (2100, 2120, {'statement': 'boolean'}), (2100, 2130, {'statement': '3'})]\n"
     ]
    }
   ],
   "source": [
    "#Build Edge List2\n",
    "\n",
    "#讀取參照的edge結構\n",
    "with open('number_logic.csv', newline='') as f:\n",
    "    reader = csv.reader(f)\n",
    "    number_logic = [tuple(map(int, row)) for row in reader]\n",
    "#print(number_logic)\n",
    "\n",
    "edge_list=[] #把df裡面的節點抓成list\n",
    "for i in df['Number']:\n",
    "    edge_list.append(i)\n",
    "#print(edge_list)\n",
    "\n",
    "edge_raw = [] #把df裡面的節點組合成edge tuple的list\n",
    "for i in itertools.combinations(edge_list, 2):\n",
    "      edge_raw.append(i)\n",
    "#print(edge_raw)\n",
    "\n",
    "edge1 = [x for x in edge_raw if x in number_logic] #比對edge_raw跟number_logic然後挑選集合部分做出新list\n",
    "edge_label = list(df3.to_dict('records'))\n",
    "#print(edge_label)\n",
    "\n",
    "edge2 = [[*i, j] for i,j in zip(list(tup for tup in edge1), edge_label)] #把Statement作為tuple的第三個常數丟給edge\n",
    "edges = [tuple(l) for l in edge2] #把上一步list裡面的元素轉回tuple...麻煩\n",
    "\n",
    "print(edges)\n",
    "G.add_edges_from(edges)\n",
    "\n",
    "print(G.edges(data=True))"
   ]
  },
  {
   "cell_type": "code",
   "execution_count": 37,
   "metadata": {},
   "outputs": [
    {
     "data": {
      "image/png": "[encoded data removed]",
      "text/plain": [
       "<IPython.core.display.Image object>"
      ]
     },
     "execution_count": 37,
     "metadata": {},
     "output_type": "execute_result"
    }
   ],
   "source": [
    "#使用Graphviz繪圖\n",
    "GDOT = networkx2dot(G)\n",
    "GDOT.write_png('tmp.png')\n",
    "Image('tmp.png')\n"
   ]
  }
 ],
 "metadata": {
  "interpreter": {
   "hash": "ecf5722fdaf1897a315d257d89d94520bfcaa453217d5becf09b39e73618b0de"
  },
  "kernelspec": {
   "display_name": "Python 3.9.5 64-bit ('base': conda)",
   "language": "python",
   "name": "python3"
  },
  "language_info": {
   "codemirror_mode": {
    "name": "ipython",
    "version": 3
   },
   "file_extension": ".py",
   "mimetype": "text/x-python",
   "name": "python",
   "nbconvert_exporter": "python",
   "pygments_lexer": "ipython3",
   "version": "3.9.5"
  },
  "orig_nbformat": 4
 },
 "nbformat": 4,
 "nbformat_minor": 2
}
