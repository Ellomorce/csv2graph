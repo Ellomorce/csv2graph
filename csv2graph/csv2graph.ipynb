{
 "cells": [
  {
   "cell_type": "code",
   "execution_count": 6,
   "metadata": {},
   "outputs": [],
   "source": [
    "import pandas as pd\n",
    "import glob\n",
    "import os\n",
    "import networkx as nx\n",
    "import itertools\n",
    "import csv\n",
    "import pydot\n",
    "from IPython.display import Image"
   ]
  },
  {
   "cell_type": "code",
   "execution_count": 28,
   "metadata": {},
   "outputs": [],
   "source": [
    "def make_graph(nodes, edges):\n",
    "    G = nx.DiGraph()\n",
    "    G.add_nodes_from(nodes)\n",
    "    G.add_edges_from(edges)\n",
    "    return G\n",
    "\n",
    "def make_edges(node_list, edge_label):\n",
    "    with open('number_logic.csv', newline='') as f:\n",
    "        reader = csv.reader(f)\n",
    "        number_logic = [tuple(map(int, row)) for row in reader]\n",
    "    edge_raw = [i for i in itertools.combinations(node_list, 2)]\n",
    "    edge1 = [j for j in edge_raw if j in number_logic]\n",
    "    edge2 = [[*m, n] for m,n in zip(list(tup for tup in edge1), edge_label)]\n",
    "    edges = [tuple(l) for l in edge2]\n",
    "    return edges\n",
    "\n",
    "def networkx2dot(G):\n",
    "    strict = nx.number_of_selfloops(G) == 0 and not G.is_multigraph()\n",
    "    GDOT = pydot.Dot(\"OKRMAP\", graph_type=\"digraph\", strict=strict, resolution='96.0', size=\"15,15!\", fontname='Microsoft JhengHei') #rankdir=\"LR\"\n",
    "    GDOT.graph_defaults = G.graph.get(\"graph\", {})\n",
    "    GDOT.set_node_defaults(shape='box', style=\"filled\", color=\"black\", fillcolor=\"white\", fontname='Microsoft JhengHei')\n",
    "    GDOT.set_edge_defaults(fontname='Microsoft JhengHei', labelfontsize='10.0')\n",
    "    \n",
    "    for n, nodedata in G.nodes(data=True):\n",
    "        if n !=None:\n",
    "            node_lst = list(nodedata.values())\n",
    "            node_dict = str(node_lst[0])\n",
    "            node_label = str(n)+'\\n'+node_dict\n",
    "            dotnode = pydot.Node(n, label = node_label)\n",
    "            GDOT.add_node(dotnode)\n",
    "\n",
    "    for u, y, edgedata in G.edges(data=True):\n",
    "        if y !=None:\n",
    "            edge_lst = list(edgedata.values())\n",
    "            edge_label = str(edge_lst[0])\n",
    "            dotedge = pydot.Edge(str(u), str(y), label = edge_label)\n",
    "            GDOT.add_edge(dotedge)\n",
    "    return GDOT"
   ]
  },
  {
   "cell_type": "code",
   "execution_count": null,
   "metadata": {},
   "outputs": [],
   "source": [
    "path = \"okrlist\" #if csv files in same folder then use: path = os.getcwd()\n",
    "csv_files = glob.glob(os.path.join(path, \"*.csv\"))  # use glob to get all the csv files in the folder\n",
    "\n",
    "for filename in csv_files:\n",
    "    df = pd.read_csv(filename, usecols = ['Number','Title', 'statement'], encoding='utf8')\n",
    "    df2 = df.drop(['Number','statement'], axis='columns')\n",
    "    df3 = df.drop(['Number', 'Title'], axis='columns')\n",
    "    #準備要放進函式裡面的data\n",
    "    #製作Node data\n",
    "    node_list = list(df['Number'])\n",
    "    node_label = df2.to_dict('records')\n",
    "    nodes = list(zip(node_list, node_label))\n",
    "    #製作Edge data\n",
    "    edge_label = list(df3.to_dict('records'))\n",
    "    #把資料丟進函式來製作Graph\n",
    "    edges = make_edges(node_list, edge_label)\n",
    "    G = make_graph(nodes, edges)\n",
    "    print('Location:', filename)\n",
    "    print('File Name:', filename.split(\"\\\\\")[-1]) \n",
    "    print('Content:')\n",
    "    display(df)\n",
    "    print()\n",
    "    #print(G.nodes(data=True))\n",
    "    #print(G.edges(data=True))\n",
    "    GDOT = networkx2dot(G)\n",
    "    GDOT.write_png('{}.png'.format(filename), encoding='utf8')"
   ]
  }
 ],
 "metadata": {
  "interpreter": {
   "hash": "ecf5722fdaf1897a315d257d89d94520bfcaa453217d5becf09b39e73618b0de"
  },
  "kernelspec": {
   "display_name": "Python 3.9.5 64-bit ('base': conda)",
   "language": "python",
   "name": "python3"
  },
  "language_info": {
   "codemirror_mode": {
    "name": "ipython",
    "version": 3
   },
   "file_extension": ".py",
   "mimetype": "text/x-python",
   "name": "python",
   "nbconvert_exporter": "python",
   "pygments_lexer": "ipython3",
   "version": "3.9.5"
  },
  "orig_nbformat": 4
 },
 "nbformat": 4,
 "nbformat_minor": 2
}
