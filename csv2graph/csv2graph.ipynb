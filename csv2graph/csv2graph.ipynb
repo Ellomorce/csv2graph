{
 "cells": [
  {
   "cell_type": "code",
   "execution_count": 12,
   "metadata": {},
   "outputs": [
    {
     "data": {
      "text/html": [
       "<div>\n",
       "<style scoped>\n",
       "    .dataframe tbody tr th:only-of-type {\n",
       "        vertical-align: middle;\n",
       "    }\n",
       "\n",
       "    .dataframe tbody tr th {\n",
       "        vertical-align: top;\n",
       "    }\n",
       "\n",
       "    .dataframe thead th {\n",
       "        text-align: right;\n",
       "    }\n",
       "</style>\n",
       "<table border=\"1\" class=\"dataframe\">\n",
       "  <thead>\n",
       "    <tr style=\"text-align: right;\">\n",
       "      <th></th>\n",
       "      <th>Number</th>\n",
       "      <th>Title</th>\n",
       "      <th>statement</th>\n",
       "    </tr>\n",
       "  </thead>\n",
       "  <tbody>\n",
       "    <tr>\n",
       "      <th>0</th>\n",
       "      <td>1000</td>\n",
       "      <td>Feel boring.</td>\n",
       "      <td>boolean</td>\n",
       "    </tr>\n",
       "    <tr>\n",
       "      <th>1</th>\n",
       "      <td>1100</td>\n",
       "      <td>Play</td>\n",
       "      <td>boolean</td>\n",
       "    </tr>\n",
       "    <tr>\n",
       "      <th>2</th>\n",
       "      <td>1110</td>\n",
       "      <td>Play Cards</td>\n",
       "      <td>boolean</td>\n",
       "    </tr>\n",
       "    <tr>\n",
       "      <th>3</th>\n",
       "      <td>1120</td>\n",
       "      <td>Play Basketball</td>\n",
       "      <td>boolean</td>\n",
       "    </tr>\n",
       "    <tr>\n",
       "      <th>4</th>\n",
       "      <td>1130</td>\n",
       "      <td>Play Video Game</td>\n",
       "      <td>boolean</td>\n",
       "    </tr>\n",
       "  </tbody>\n",
       "</table>\n",
       "</div>"
      ],
      "text/plain": [
       "   Number            Title statement\n",
       "0    1000     Feel boring.   boolean\n",
       "1    1100             Play   boolean\n",
       "2    1110       Play Cards   boolean\n",
       "3    1120  Play Basketball   boolean\n",
       "4    1130  Play Video Game   boolean"
      ]
     },
     "execution_count": 12,
     "metadata": {},
     "output_type": "execute_result"
    }
   ],
   "source": [
    "import pandas as pd\n",
    "\n",
    "df = pd.read_csv(r\"D:\\Code\\TFBOKRMAP\\okrlist\\rdtest111c.csv\", usecols = ['Number','Title', 'statement']) \n",
    "df.head()"
   ]
  },
  {
   "cell_type": "code",
   "execution_count": 17,
   "metadata": {},
   "outputs": [
    {
     "name": "stdout",
     "output_type": "stream",
     "text": [
      "[1000, 1100, 1110, 1120, 1130, 1131, 2000, 2100, 2110, 2120, 2130]\n",
      "[(1000, {'Title': 'Feel boring.'}), (1100, {'Title': 'Play'}), (1110, {'Title': 'Play Cards'}), (1120, {'Title': 'Play Basketball'}), (1130, {'Title': 'Play Video Game'}), (1131, {'Title': 'Open Steam'}), (2000, {'Title': 'Feel Hungry'}), (2100, {'Title': 'Eat'}), (2110, {'Title': 'McDonalds'}), (2120, {'Title': 'Nightmarket'}), (2130, {'Title': 'Dirt'})]\n"
     ]
    }
   ],
   "source": [
    "import networkx as nx\n",
    "\n",
    "G = nx.DiGraph(rankdir=\"LR\")\n",
    "#Setting Nodes and Node Attributes \n",
    "G.add_nodes_from(df['Number'])\n",
    "print(G.nodes)\n",
    "for index, row in df.iterrows():\n",
    "    G.nodes[row['Number']]['Title'] = row['Title']\n",
    "print(G.nodes(data=True))"
   ]
  },
  {
   "cell_type": "code",
   "execution_count": null,
   "metadata": {},
   "outputs": [],
   "source": [
    "#Setting Edges and Edge Attributes\n",
    "#Build Edge List\n",
    "#import pprint\n",
    "#edge_list=[]\n",
    "#for i in range(1000,5901):\n",
    "#  a=i//1000\n",
    "#  b=(i%1000)//100\n",
    "#  c=(i%100)//10\n",
    "#  d=i%10\n",
    "#  if b!=0:\n",
    "#    if c!=0:\n",
    "#      edge_list.append(i)\n",
    "#    else:\n",
    "#      if d==0:\n",
    "#        edge_list.append(i)\n",
    "#  else:\n",
    "#    if c==0 and d==0:\n",
    "#      edge_list.append(i)\n",
    "#pprint.pprint(edge_list, depth=1, width=10000)\n",
    "#這段好像沒有用.....87"
   ]
  },
  {
   "cell_type": "code",
   "execution_count": 29,
   "metadata": {},
   "outputs": [
    {
     "name": "stdout",
     "output_type": "stream",
     "text": [
      "[(1000, 1100), (1100, 1110), (1100, 1120), (1100, 1130), (1130, 1131), (2000, 2100), (2100, 2110), (2100, 2120), (2100, 2130)]\n",
      "{(1000, 1100): 'boolean', (1100, 1110): 'boolean', (1100, 1120): 'boolean', (1100, 1130): 'boolean', (1130, 1131): 'boolean', (2000, 2100): 'boolean', (2100, 2110): 'boolean', (2100, 2120): 'boolean', (2100, 2130): 'boolean'}\n"
     ]
    }
   ],
   "source": [
    "#Build Edge List2\n",
    "import itertools\n",
    "import csv\n",
    "\n",
    "#讀取參照的edge結構\n",
    "with open('number_logic.csv', newline='') as f:\n",
    "    reader = csv.reader(f)\n",
    "    number_logic = [tuple(map(int, row)) for row in reader]\n",
    "#print(number_logic)\n",
    "\n",
    "edge_list=[] #把df裡面的節點抓成list\n",
    "for i in df['Number']:\n",
    "    edge_list.append(i)\n",
    "#print(edge_list)\n",
    "\n",
    "edge_raw = [] #把df裡面的節點組合成edge tuple的list\n",
    "for i in itertools.combinations(edge_list, 2):\n",
    "      edge_raw.append(i)\n",
    "#print(edge_raw)\n",
    "\n",
    "#比對edge_raw跟number_logic然後挑選集合部分做出新list\n",
    "edge = [x for x in edge_raw if x in number_logic]\n",
    "print(edge)\n",
    "G.add_edges_from(edge)\n",
    "\n",
    "#設計Edge Labels\n",
    "statement = df['statement'].tolist()\n",
    "edge_label = {}\n",
    "\n",
    "for k, v in zip(G.edges, statement):\n",
    "    edge_label[k] = v\n",
    "#print(edge_label)"
   ]
  },
  {
   "cell_type": "code",
   "execution_count": null,
   "metadata": {},
   "outputs": [],
   "source": [
    "#使用Graphviz繪圖\n"
   ]
  }
 ],
 "metadata": {
  "interpreter": {
   "hash": "ecf5722fdaf1897a315d257d89d94520bfcaa453217d5becf09b39e73618b0de"
  },
  "kernelspec": {
   "display_name": "Python 3.9.5 64-bit ('base': conda)",
   "language": "python",
   "name": "python3"
  },
  "language_info": {
   "codemirror_mode": {
    "name": "ipython",
    "version": 3
   },
   "file_extension": ".py",
   "mimetype": "text/x-python",
   "name": "python",
   "nbconvert_exporter": "python",
   "pygments_lexer": "ipython3",
   "version": "3.9.5"
  },
  "orig_nbformat": 4
 },
 "nbformat": 4,
 "nbformat_minor": 2
}
