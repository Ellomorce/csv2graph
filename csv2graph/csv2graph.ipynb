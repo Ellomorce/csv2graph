{
 "cells": [
  {
   "cell_type": "code",
   "execution_count": 1,
   "metadata": {},
   "outputs": [
    {
     "data": {
      "text/html": [
       "<div>\n",
       "<style scoped>\n",
       "    .dataframe tbody tr th:only-of-type {\n",
       "        vertical-align: middle;\n",
       "    }\n",
       "\n",
       "    .dataframe tbody tr th {\n",
       "        vertical-align: top;\n",
       "    }\n",
       "\n",
       "    .dataframe thead th {\n",
       "        text-align: right;\n",
       "    }\n",
       "</style>\n",
       "<table border=\"1\" class=\"dataframe\">\n",
       "  <thead>\n",
       "    <tr style=\"text-align: right;\">\n",
       "      <th></th>\n",
       "      <th>Number</th>\n",
       "      <th>Title</th>\n",
       "      <th>Statement</th>\n",
       "    </tr>\n",
       "  </thead>\n",
       "  <tbody>\n",
       "    <tr>\n",
       "      <th>0</th>\n",
       "      <td>1000</td>\n",
       "      <td>Feel Boring</td>\n",
       "      <td>bool</td>\n",
       "    </tr>\n",
       "    <tr>\n",
       "      <th>1</th>\n",
       "      <td>1100</td>\n",
       "      <td>Play</td>\n",
       "      <td>bool</td>\n",
       "    </tr>\n",
       "    <tr>\n",
       "      <th>2</th>\n",
       "      <td>1110</td>\n",
       "      <td>Play Cards</td>\n",
       "      <td>bool</td>\n",
       "    </tr>\n",
       "    <tr>\n",
       "      <th>3</th>\n",
       "      <td>1120</td>\n",
       "      <td>Play Basketball</td>\n",
       "      <td>bool</td>\n",
       "    </tr>\n",
       "    <tr>\n",
       "      <th>4</th>\n",
       "      <td>1130</td>\n",
       "      <td>Play Videogame</td>\n",
       "      <td>bool</td>\n",
       "    </tr>\n",
       "    <tr>\n",
       "      <th>5</th>\n",
       "      <td>1131</td>\n",
       "      <td>Open Steam</td>\n",
       "      <td>bool</td>\n",
       "    </tr>\n",
       "    <tr>\n",
       "      <th>6</th>\n",
       "      <td>2000</td>\n",
       "      <td>Feel Hungry</td>\n",
       "      <td>bool</td>\n",
       "    </tr>\n",
       "    <tr>\n",
       "      <th>7</th>\n",
       "      <td>2100</td>\n",
       "      <td>Eat</td>\n",
       "      <td>bool</td>\n",
       "    </tr>\n",
       "    <tr>\n",
       "      <th>8</th>\n",
       "      <td>2110</td>\n",
       "      <td>McDonalds</td>\n",
       "      <td>bool</td>\n",
       "    </tr>\n",
       "    <tr>\n",
       "      <th>9</th>\n",
       "      <td>2120</td>\n",
       "      <td>Nightmarket</td>\n",
       "      <td>bool</td>\n",
       "    </tr>\n",
       "    <tr>\n",
       "      <th>10</th>\n",
       "      <td>2130</td>\n",
       "      <td>Dirt</td>\n",
       "      <td>bool</td>\n",
       "    </tr>\n",
       "  </tbody>\n",
       "</table>\n",
       "</div>"
      ],
      "text/plain": [
       "    Number            Title Statement\n",
       "0     1000      Feel Boring      bool\n",
       "1     1100             Play      bool\n",
       "2     1110       Play Cards      bool\n",
       "3     1120  Play Basketball      bool\n",
       "4     1130   Play Videogame      bool\n",
       "5     1131       Open Steam      bool\n",
       "6     2000      Feel Hungry      bool\n",
       "7     2100              Eat      bool\n",
       "8     2110        McDonalds      bool\n",
       "9     2120      Nightmarket      bool\n",
       "10    2130             Dirt      bool"
      ]
     },
     "metadata": {},
     "output_type": "display_data"
    }
   ],
   "source": [
    "import pandas as pd\n",
    "\n",
    "df = pd.read_csv('csvlist.csv', usecols = ['Number','Title', 'Statement']) \n",
    "display(df)"
   ]
  },
  {
   "cell_type": "code",
   "execution_count": 2,
   "metadata": {},
   "outputs": [
    {
     "name": "stdout",
     "output_type": "stream",
     "text": [
      "[1000, 1100, 1110, 1120, 1130, 1131, 2000, 2100, 2110, 2120, 2130]\n",
      "[(1000, {'attr': 'Feel Boring'}), (1100, {'attr': 'Play'}), (1110, {'attr': 'Play Cards'}), (1120, {'attr': 'Play Basketball'}), (1130, {'attr': 'Play Videogame'}), (1131, {'attr': 'Open Steam'}), (2000, {'attr': 'Feel Hungry'}), (2100, {'attr': 'Eat'}), (2110, {'attr': 'McDonalds'}), (2120, {'attr': 'Nightmarket'}), (2130, {'attr': 'Dirt'})]\n"
     ]
    }
   ],
   "source": [
    "import networkx as nx\n",
    "\n",
    "G = nx.Graph()\n",
    "#Setting Nodes and Node Attributes \n",
    "G.add_nodes_from(df['Number'])\n",
    "print(G.nodes)\n",
    "for index, row in df.iterrows():\n",
    "    G.nodes[row['Number']]['attr'] = row['Title']\n",
    "print(G.nodes(data=True))"
   ]
  },
  {
   "cell_type": "code",
   "execution_count": null,
   "metadata": {},
   "outputs": [],
   "source": [
    "#Setting Edges and Edge Attributes\n",
    "#Build Edge List\n",
    "import pprint\n",
    "\n",
    "edge_list=[]\n",
    "\n",
    "for i in range(1000,5901):\n",
    "  a=i//1000\n",
    "  b=(i%1000)//100\n",
    "  c=(i%100)//10\n",
    "  d=i%10\n",
    "  if b!=0:\n",
    "    if c!=0:\n",
    "      edge_list.append(i)\n",
    "    else:\n",
    "      if d==0:\n",
    "        edge_list.append(i)\n",
    "  else:\n",
    "    if c==0 and d==0:\n",
    "      edge_list.append(i)\n",
    "\n",
    "pprint.pprint(edge_list, depth=1, width=10000)"
   ]
  }
 ],
 "metadata": {
  "interpreter": {
   "hash": "f0ecbe723761acc203950df029d19a068ef80f223d20b15e24338530059337de"
  },
  "kernelspec": {
   "display_name": "Python 3.9.5 64-bit ('base': conda)",
   "language": "python",
   "name": "python3"
  },
  "language_info": {
   "codemirror_mode": {
    "name": "ipython",
    "version": 3
   },
   "file_extension": ".py",
   "mimetype": "text/x-python",
   "name": "python",
   "nbconvert_exporter": "python",
   "pygments_lexer": "ipython3",
   "version": "3.9.5"
  },
  "orig_nbformat": 4
 },
 "nbformat": 4,
 "nbformat_minor": 2
}
