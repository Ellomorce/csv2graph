{
 "cells": [
  {
   "cell_type": "code",
   "execution_count": 9,
   "metadata": {},
   "outputs": [
    {
     "data": {
      "text/html": [
       "<div>\n",
       "<style scoped>\n",
       "    .dataframe tbody tr th:only-of-type {\n",
       "        vertical-align: middle;\n",
       "    }\n",
       "\n",
       "    .dataframe tbody tr th {\n",
       "        vertical-align: top;\n",
       "    }\n",
       "\n",
       "    .dataframe thead th {\n",
       "        text-align: right;\n",
       "    }\n",
       "</style>\n",
       "<table border=\"1\" class=\"dataframe\">\n",
       "  <thead>\n",
       "    <tr style=\"text-align: right;\">\n",
       "      <th></th>\n",
       "      <th>Number</th>\n",
       "      <th>Title</th>\n",
       "      <th>statement</th>\n",
       "    </tr>\n",
       "  </thead>\n",
       "  <tbody>\n",
       "    <tr>\n",
       "      <th>0</th>\n",
       "      <td>1000</td>\n",
       "      <td>Feel boring.</td>\n",
       "      <td>boolean</td>\n",
       "    </tr>\n",
       "    <tr>\n",
       "      <th>1</th>\n",
       "      <td>1100</td>\n",
       "      <td>Play</td>\n",
       "      <td>boolean</td>\n",
       "    </tr>\n",
       "    <tr>\n",
       "      <th>2</th>\n",
       "      <td>1110</td>\n",
       "      <td>Play Cards</td>\n",
       "      <td>boolean</td>\n",
       "    </tr>\n",
       "    <tr>\n",
       "      <th>3</th>\n",
       "      <td>1120</td>\n",
       "      <td>Play Basketball</td>\n",
       "      <td>boolean</td>\n",
       "    </tr>\n",
       "    <tr>\n",
       "      <th>4</th>\n",
       "      <td>1130</td>\n",
       "      <td>Play Video Game</td>\n",
       "      <td>boolean</td>\n",
       "    </tr>\n",
       "  </tbody>\n",
       "</table>\n",
       "</div>"
      ],
      "text/plain": [
       "   Number            Title statement\n",
       "0    1000     Feel boring.   boolean\n",
       "1    1100             Play   boolean\n",
       "2    1110       Play Cards   boolean\n",
       "3    1120  Play Basketball   boolean\n",
       "4    1130  Play Video Game   boolean"
      ]
     },
     "execution_count": 9,
     "metadata": {},
     "output_type": "execute_result"
    }
   ],
   "source": [
    "import pandas as pd\n",
    "\n",
    "df = pd.read_csv(r\"D:\\Code\\TFBOKRMAP\\okrlist\\rdtest111c.csv\", usecols = ['Number','Title', 'statement']) \n",
    "df.head()"
   ]
  },
  {
   "cell_type": "code",
   "execution_count": 29,
   "metadata": {},
   "outputs": [
    {
     "name": "stdout",
     "output_type": "stream",
     "text": [
      "[(1000, {'attr': 'Feel boring.'}), (1100, {'attr': 'Play'}), (1110, {'attr': 'Play Cards'}), (1120, {'attr': 'Play Basketball'}), (1130, {'attr': 'Play Video Game'}), (1131, {'attr': 'Open Steam'}), (2000, {'attr': 'Feel Hungry'}), (2100, {'attr': 'Eat'}), (2110, {'attr': 'McDonalds'}), (2120, {'attr': 'Nightmarket'}), (2130, {'attr': 'Dirt'})]\n"
     ]
    }
   ],
   "source": [
    "import networkx as nx\n",
    "\n",
    "G = nx.Graph()\n",
    "#Setting Nodes and Node Attributes \n",
    "G.add_nodes_from(df['Number'])\n",
    "#print(G.nodes)\n",
    "for index, row in df.iterrows():\n",
    "    G.nodes[row['Number']]['attr'] = row['Title']\n",
    "print(G.nodes(data=True))\n",
    "\n",
    "#Setting Edges and Edge Attributes\n",
    "\n",
    "\n"
   ]
  }
 ],
 "metadata": {
  "interpreter": {
   "hash": "ecf5722fdaf1897a315d257d89d94520bfcaa453217d5becf09b39e73618b0de"
  },
  "kernelspec": {
   "display_name": "Python 3.9.5 64-bit ('base': conda)",
   "language": "python",
   "name": "python3"
  },
  "language_info": {
   "codemirror_mode": {
    "name": "ipython",
    "version": 3
   },
   "file_extension": ".py",
   "mimetype": "text/x-python",
   "name": "python",
   "nbconvert_exporter": "python",
   "pygments_lexer": "ipython3",
   "version": "3.9.5"
  },
  "orig_nbformat": 4
 },
 "nbformat": 4,
 "nbformat_minor": 2
}
